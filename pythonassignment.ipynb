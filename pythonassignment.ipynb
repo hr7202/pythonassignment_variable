{
 "cells": [
  {
   "cell_type": "code",
   "execution_count": 1,
   "id": "67e1f877-9177-4cf0-9b8d-950653d0b3d4",
   "metadata": {},
   "outputs": [],
   "source": [
    "#The conventions that are used while declaring a variable are int, float, string, bool, complex number.\n",
    "#This is for answer 1."
   ]
  },
  {
   "cell_type": "code",
   "execution_count": 4,
   "id": "4424f115-a287-4d91-b340-7891c8ad1e2d",
   "metadata": {},
   "outputs": [],
   "source": [
    "#If we declare a restricted keyword as a variable, we will be able to store the current values of a variable.\n",
    "#This is for answer 2."
   ]
  },
  {
   "cell_type": "code",
   "execution_count": 5,
   "id": "a7740886-9eb4-4c76-ae17-d9182bbb0b29",
   "metadata": {},
   "outputs": [],
   "source": [
    "#Yes, we can actually declare a string as a variable name.\n",
    "#This is for answer 3."
   ]
  },
  {
   "cell_type": "code",
   "execution_count": 6,
   "id": "a95c5eda-40ae-4eee-ad8d-8f96e531b30c",
   "metadata": {},
   "outputs": [],
   "source": [
    "#Yes, it is possible to declare \"_\" as a variable.\n",
    "a=\"Harshit_Kumar\""
   ]
  },
  {
   "cell_type": "code",
   "execution_count": 7,
   "id": "a3c85caf-4f49-4317-912c-e6638c3ed11e",
   "metadata": {},
   "outputs": [
    {
     "name": "stdout",
     "output_type": "stream",
     "text": [
      "Harshit_Kumar\n"
     ]
    }
   ],
   "source": [
    "print(a)"
   ]
  },
  {
   "cell_type": "code",
   "execution_count": 8,
   "id": "ef52e381-0633-4f98-9b3e-f5697dc4ab5b",
   "metadata": {},
   "outputs": [],
   "source": [
    "#This is for answer 4."
   ]
  },
  {
   "cell_type": "code",
   "execution_count": 9,
   "id": "2be48c33-e712-481f-a205-681d6aae85b3",
   "metadata": {},
   "outputs": [],
   "source": [
    "a=345.67"
   ]
  },
  {
   "cell_type": "code",
   "execution_count": 10,
   "id": "bc8cfbf2-86f1-47b0-84b8-c861aeab2fe6",
   "metadata": {},
   "outputs": [],
   "source": [
    "a=345"
   ]
  },
  {
   "cell_type": "code",
   "execution_count": 11,
   "id": "3dfdf8b0-80d9-4cb7-8b1c-a8827693ebd8",
   "metadata": {},
   "outputs": [
    {
     "data": {
      "text/plain": [
       "345"
      ]
     },
     "execution_count": 11,
     "metadata": {},
     "output_type": "execute_result"
    }
   ],
   "source": [
    "a"
   ]
  },
  {
   "cell_type": "code",
   "execution_count": 12,
   "id": "093f85c5-b614-4cca-b326-40a2b045f23b",
   "metadata": {},
   "outputs": [
    {
     "data": {
      "text/plain": [
       "345"
      ]
     },
     "execution_count": 12,
     "metadata": {},
     "output_type": "execute_result"
    }
   ],
   "source": [
    "a"
   ]
  },
  {
   "cell_type": "code",
   "execution_count": 13,
   "id": "e263cd16-711a-4fae-bd7a-61eb68f937e3",
   "metadata": {},
   "outputs": [
    {
     "data": {
      "text/plain": [
       "int"
      ]
     },
     "execution_count": 13,
     "metadata": {},
     "output_type": "execute_result"
    }
   ],
   "source": [
    "type(a)"
   ]
  },
  {
   "cell_type": "code",
   "execution_count": null,
   "id": "725dce6e-6dda-40c6-a400-b667449df6c3",
   "metadata": {},
   "outputs": [],
   "source": [
    "#So, therefore variables in python are dynamic in nature.\n",
    "#This is for answer 5."
   ]
  }
 ],
 "metadata": {
  "kernelspec": {
   "display_name": "Python 3 (ipykernel)",
   "language": "python",
   "name": "python3"
  },
  "language_info": {
   "codemirror_mode": {
    "name": "ipython",
    "version": 3
   },
   "file_extension": ".py",
   "mimetype": "text/x-python",
   "name": "python",
   "nbconvert_exporter": "python",
   "pygments_lexer": "ipython3",
   "version": "3.10.8"
  }
 },
 "nbformat": 4,
 "nbformat_minor": 5
}
